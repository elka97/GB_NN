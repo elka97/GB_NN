{
  "cells": [
    {
      "cell_type": "markdown",
      "metadata": {
        "id": "view-in-github",
        "colab_type": "text"
      },
      "source": [
        "<a href=\"https://colab.research.google.com/github/elka97/GB_NN/blob/main/homework_4.ipynb\" target=\"_parent\"><img src=\"https://colab.research.google.com/assets/colab-badge.svg\" alt=\"Open In Colab\"/></a>"
      ]
    },
    {
      "cell_type": "markdown",
      "source": [
        "### Практическое задание\n",
        "Вариант 1. (простой)\n",
        "\n",
        "1. обучить сверточную нейронную сеть в стиле AlexNet (с падением размера ядра свертки и последовательностью блоков свертка-пулинг (conv-pool)-(conv-pool)-...) на датасете fashion-mnist или cifar10\n",
        "2. оценить рост точности при увеличении ширины сети (больше ядер)\n",
        "3. оценить рост точности при увеличении глубины сети (больше слоев)\n",
        "(опциционально)сравнить с точностью полносвязной сети для этой выборки"
      ],
      "metadata": {
        "id": "10VNNkiow3GS"
      }
    },
    {
      "cell_type": "code",
      "execution_count": 1,
      "metadata": {
        "id": "0CMCfvAPdJct"
      },
      "outputs": [],
      "source": [
        "# from __future__ import print_function\n",
        "import tensorflow.keras as keras # расскоментируйте эту строку, чтобы начать обучение\n",
        "from tensorflow.keras.datasets import cifar10\n",
        "from tensorflow.keras.preprocessing.image import ImageDataGenerator\n",
        "from tensorflow.keras.models import Sequential\n",
        "from tensorflow.keras.layers import Dense, Dropout, Activation, Flatten\n",
        "from tensorflow.keras.layers import Conv2D, MaxPooling2D\n",
        "import os\n",
        "import matplotlib.pyplot as plt\n",
        "import numpy as np"
      ]
    },
    {
      "cell_type": "markdown",
      "source": [
        "### Load, pre-processing"
      ],
      "metadata": {
        "id": "Wpdf7MHwuuMT"
      }
    },
    {
      "cell_type": "code",
      "execution_count": 2,
      "metadata": {
        "id": "kiRCJY0WdGph"
      },
      "outputs": [],
      "source": [
        "classes=['самолет', 'автомобиль', 'птица', 'кот', 'олень', 'собака', 'лягушка', 'лошадь', 'корабль', 'грузовик']\n",
        "num_classes = len(classes)"
      ]
    },
    {
      "cell_type": "code",
      "execution_count": 3,
      "metadata": {
        "colab": {
          "base_uri": "https://localhost:8080/"
        },
        "id": "yvG4BrpCwuFz",
        "outputId": "a97e843d-13b3-4fb4-8b86-be89ca3b1cfd"
      },
      "outputs": [
        {
          "output_type": "stream",
          "name": "stdout",
          "text": [
            "Downloading data from https://www.cs.toronto.edu/~kriz/cifar-10-python.tar.gz\n",
            "170500096/170498071 [==============================] - 6s 0us/step\n",
            "170508288/170498071 [==============================] - 6s 0us/step\n",
            "x_train shape: (50000, 32, 32, 3)\n",
            "50000 тренировочные примеры\n",
            "10000 тестовые примеры\n"
          ]
        }
      ],
      "source": [
        "# разделение тренировочной и тестовой выборки\n",
        "(x_train, y_train), (x_test, y_test) = cifar10.load_data()\n",
        "\n",
        "print('x_train shape:', x_train.shape)\n",
        "print(x_train.shape[0], 'тренировочные примеры')\n",
        "print(x_test.shape[0], 'тестовые примеры')"
      ]
    },
    {
      "cell_type": "code",
      "source": [
        "# преобразование матрицы чисел 0-9 в бинарную матрицу чисел 0-1\n",
        "y_train = keras.utils.to_categorical(y_train, num_classes)\n",
        "y_test = keras.utils.to_categorical(y_test, num_classes)\n",
        "\n",
        "# mashtabizaciya данных [0, 1]\n",
        "x_train = x_train.astype('float32')\n",
        "x_test = x_test.astype('float32')\n",
        "x_train /= 255\n",
        "x_test /= 255"
      ],
      "metadata": {
        "id": "-fmoWYn66HIM"
      },
      "execution_count": 4,
      "outputs": []
    },
    {
      "cell_type": "code",
      "execution_count": 5,
      "metadata": {
        "colab": {
          "base_uri": "https://localhost:8080/",
          "height": 281
        },
        "id": "rDe1bd1pw5fM",
        "outputId": "9898de01-32c2-4909-f00f-606ee426139f"
      },
      "outputs": [
        {
          "output_type": "display_data",
          "data": {
            "text/plain": [
              "<Figure size 432x288 with 1 Axes>"
            ],
            "image/png": "[encoded data removed]"
          },
          "metadata": {
            "needs_background": "light"
          }
        }
      ],
      "source": [
        "N = 1131\n",
        "plt.imshow(x_test[N][:,:,:])\n",
        "plt.title('это : '+classes[np.argmax(y_test[N,:])])\n",
        "plt.show()"
      ]
    },
    {
      "cell_type": "code",
      "source": [
        "# установка параметров нейросети\n",
        "save_dir = os.path.join(os.getcwd(), 'saved_models')\n",
        "model_name = 'keras_cifar10_trained_model.h5'\n",
        "\n",
        "batch_size = 32\n",
        "epochs = 5\n",
        "data_augmentation = False"
      ],
      "metadata": {
        "id": "W7WsEx3WE34Z"
      },
      "execution_count": 46,
      "outputs": []
    },
    {
      "cell_type": "markdown",
      "source": [
        "### Methods"
      ],
      "metadata": {
        "id": "dX1OrnAHu5De"
      }
    },
    {
      "cell_type": "code",
      "source": [
        "def run_model(_m, _batch_size=32, _epochs=10, _data_augmentation=False):\n",
        "  if not _data_augmentation:\n",
        "      print('Не используется data augmentation')\n",
        "      _m.fit(x_train, y_train,\n",
        "                batch_size=_batch_size,\n",
        "                epochs=_epochs,\n",
        "                validation_data=(x_test, y_test),\n",
        "                shuffle=True)\n",
        "  else:\n",
        "      print('Использование data augmentation в реальном времени')\n",
        "      # Препроцессинг и data augmentation в реальном времени:\n",
        "      datagen = ImageDataGenerator(\n",
        "          featurewise_center=False,\n",
        "          samplewise_center=False,\n",
        "          featurewise_std_normalization=False,\n",
        "          samplewise_std_normalization=False,\n",
        "          zca_whitening=False, \n",
        "          zca_epsilon=1e-06, \n",
        "          rotation_range=5, \n",
        "          width_shift_range=0.1,\n",
        "          height_shift_range=0.1,\n",
        "          shear_range=0., \n",
        "          zoom_range=0., \n",
        "          channel_shift_range=0.,\n",
        "          fill_mode='nearest',\n",
        "          cval=0.,\n",
        "          horizontal_flip=True,\n",
        "          vertical_flip=False,\n",
        "          rescale=None,\n",
        "          preprocessing_function=None,\n",
        "          data_format=None,\n",
        "          validation_split=0.0)      \n",
        "\n",
        "      # compute quantities required for featurewise normalization\n",
        "      # (std, mean, and principal components if ZCA whitening is applied)\n",
        "      datagen.fit(x_train)\n",
        "\n",
        "      # fits the model on batches with real-time data augmentation:   \n",
        "      #TF >= 2.1\n",
        "      _m.fit(datagen.flow(x_train, y_train, batch_size=_batch_size), steps_per_epoch=len(x_train) // _batch_size, epochs=_epochs)\n",
        "\n",
        "  # # сохранение модели и весов\n",
        "  # if not os.path.isdir(save_dir):\n",
        "  #   os.makedirs(save_dir)\n",
        "  # model_path = os.path.join(save_dir, model_name)\n",
        "  # _m.save(model_path)\n",
        "  # print('сохранить обученную модель как %s ' % model_path)\n",
        "\n",
        "  # проверка работы обученной модели\n",
        "  scores = _m.evaluate(x_test, y_test, verbose=1)\n",
        "  print('Test loss:', scores[0])\n",
        "  print('Test accuracy:', scores[1])\n",
        "\n",
        "  return"
      ],
      "metadata": {
        "id": "1oy9Urlpi06s"
      },
      "execution_count": 47,
      "outputs": []
    },
    {
      "cell_type": "code",
      "source": [
        "def build_model(_model_conf):  \n",
        "  _model = Sequential()\n",
        "  i=0\n",
        "\n",
        "  # конфигурирование слоев нейросети\n",
        "  for key, val in _model_conf.items():\n",
        "    # print(key,  val)\n",
        "\n",
        "    if \"conv\" in key:      \n",
        "      _filters, _kernl_size, _strides, _pad = val[0], val[1], val[2], val[3]\n",
        "      # print(_filters, _kernl_size, _strides, _pad)  #, val[1], val[3], val[2]\n",
        "      if i==0:\n",
        "        _model.add(Conv2D(_filters, _kernl_size, padding=str(_pad), activation='relu', strides=_strides, input_shape=x_train.shape[1:]))\n",
        "      else:\n",
        "        _model.add(Conv2D(_filters, _kernl_size, padding=str(_pad), activation='relu', strides=_strides))\n",
        "      i+=1\n",
        "      # print(i)\n",
        "    if \"pool\" in key:\n",
        "      _model.add(MaxPooling2D(pool_size=(val[0], val[0]), strides=val[1]))\n",
        "      _model.add(Dropout(0.25))\n",
        "    if \"flat\" in key:\n",
        "      _model.add(Flatten())\n",
        "    # полносвязные слои нейронной сети\n",
        "    if \"dense\" in key:\n",
        "      _model.add(Dense(val[0], activation='relu'))  \n",
        "\n",
        "  #  output layer\n",
        "  _model.add(Dropout(0.5))\n",
        "  _model.add(Dense(num_classes, activation='softmax')) \n",
        "  # компиляция модели\n",
        "  _model.compile(loss='categorical_crossentropy',\n",
        "                optimizer='SGD',\n",
        "                metrics=['accuracy'])  \n",
        "  # вывод описания созданной модели\n",
        "  _model.summary()\n",
        "  return _model"
      ],
      "metadata": {
        "id": "6Na63zR3iTuO"
      },
      "execution_count": 48,
      "outputs": []
    },
    {
      "cell_type": "markdown",
      "source": [
        "### Пример  из урока (на Keras более сложной сверточной нейронной сети) - базовая моделЬ"
      ],
      "metadata": {
        "id": "Ee3tkR9Yol1G"
      }
    },
    {
      "cell_type": "code",
      "source": [
        "# conv 32 same 3x3\n",
        "# conv 32 valid 3x3\n",
        "# pooling 2x2\n",
        "# conv 64 same 3x3\n",
        "# conv 64 valid 3x3\n",
        "# pooling 2x2\n",
        "# flattern\n",
        "# Dense 512\n",
        "# dense output"
      ],
      "metadata": {
        "id": "UdtL_5_hHNyP"
      },
      "execution_count": null,
      "outputs": []
    },
    {
      "cell_type": "code",
      "source": [
        "model_conf={\"conv1\": (32, 3, 1, \"same\"), \"conv2\":(32, 3, 1, \"valid\") , \"pool1\":(2,1), \n",
        "            \"conv3\":(64, 3, 1, \"same\"), \"conv4\":(64, 3, 1, \"valid\"), \"pool2\":(2,1), \n",
        "            \"flat\": (), \"dense1\":(512,)}\n",
        "model = build_model(model_conf)"
      ],
      "metadata": {
        "colab": {
          "base_uri": "https://localhost:8080/"
        },
        "id": "LqZWfsKql2yE",
        "outputId": "75ea2d7d-646a-4871-805e-cf1025d54be5"
      },
      "execution_count": 50,
      "outputs": [
        {
          "output_type": "stream",
          "name": "stdout",
          "text": [
            "Model: \"sequential_11\"\n",
            "_________________________________________________________________\n",
            " Layer (type)                Output Shape              Param #   \n",
            "=================================================================\n",
            " conv2d_47 (Conv2D)          (None, 32, 32, 32)        896       \n",
            "                                                                 \n",
            " conv2d_48 (Conv2D)          (None, 30, 30, 32)        9248      \n",
            "                                                                 \n",
            " max_pooling2d_24 (MaxPoolin  (None, 29, 29, 32)       0         \n",
            " g2D)                                                            \n",
            "                                                                 \n",
            " dropout_35 (Dropout)        (None, 29, 29, 32)        0         \n",
            "                                                                 \n",
            " conv2d_49 (Conv2D)          (None, 29, 29, 64)        18496     \n",
            "                                                                 \n",
            " conv2d_50 (Conv2D)          (None, 27, 27, 64)        36928     \n",
            "                                                                 \n",
            " max_pooling2d_25 (MaxPoolin  (None, 26, 26, 64)       0         \n",
            " g2D)                                                            \n",
            "                                                                 \n",
            " dropout_36 (Dropout)        (None, 26, 26, 64)        0         \n",
            "                                                                 \n",
            " flatten_11 (Flatten)        (None, 43264)             0         \n",
            "                                                                 \n",
            " dense_23 (Dense)            (None, 512)               22151680  \n",
            "                                                                 \n",
            " dropout_37 (Dropout)        (None, 512)               0         \n",
            "                                                                 \n",
            " dense_24 (Dense)            (None, 10)                5130      \n",
            "                                                                 \n",
            "=================================================================\n",
            "Total params: 22,222,378\n",
            "Trainable params: 22,222,378\n",
            "Non-trainable params: 0\n",
            "_________________________________________________________________\n"
          ]
        }
      ]
    },
    {
      "cell_type": "code",
      "source": [
        "run_model(model, batch_size, epochs, False)\n",
        "run_model(model, batch_size, epochs, True)"
      ],
      "metadata": {
        "colab": {
          "base_uri": "https://localhost:8080/"
        },
        "id": "vu2gU3H3Csqr",
        "outputId": "3f8de3b1-b4a5-4bca-df7a-5e30a45b9a3f"
      },
      "execution_count": 51,
      "outputs": [
        {
          "output_type": "stream",
          "name": "stdout",
          "text": [
            "Не используется data augmentation\n",
            "Epoch 1/5\n",
            "1563/1563 [==============================] - 16s 10ms/step - loss: 1.8556 - accuracy: 0.3281 - val_loss: 1.5613 - val_accuracy: 0.4564\n",
            "Epoch 2/5\n",
            "1563/1563 [==============================] - 14s 9ms/step - loss: 1.5000 - accuracy: 0.4598 - val_loss: 1.3393 - val_accuracy: 0.5318\n",
            "Epoch 3/5\n",
            "1563/1563 [==============================] - 15s 9ms/step - loss: 1.3021 - accuracy: 0.5373 - val_loss: 1.2179 - val_accuracy: 0.5738\n",
            "Epoch 4/5\n",
            "1563/1563 [==============================] - 14s 9ms/step - loss: 1.1494 - accuracy: 0.5920 - val_loss: 1.0378 - val_accuracy: 0.6378\n",
            "Epoch 5/5\n",
            "1563/1563 [==============================] - 14s 9ms/step - loss: 1.0338 - accuracy: 0.6360 - val_loss: 0.9695 - val_accuracy: 0.6588\n",
            "313/313 [==============================] - 2s 5ms/step - loss: 0.9695 - accuracy: 0.6588\n",
            "Test loss: 0.9695219993591309\n",
            "Test accuracy: 0.6588000059127808\n",
            "Использование data augmentation в реальном времени\n",
            "Epoch 1/5\n",
            "1562/1562 [==============================] - 109s 27ms/step - loss: 1.1315 - accuracy: 0.6020\n",
            "Epoch 2/5\n",
            "1562/1562 [==============================] - 42s 27ms/step - loss: 1.0710 - accuracy: 0.6214\n",
            "Epoch 3/5\n",
            "1562/1562 [==============================] - 42s 27ms/step - loss: 1.0177 - accuracy: 0.6417\n",
            "Epoch 4/5\n",
            "1562/1562 [==============================] - 42s 27ms/step - loss: 0.9769 - accuracy: 0.6551\n",
            "Epoch 5/5\n",
            "1562/1562 [==============================] - 42s 27ms/step - loss: 0.9382 - accuracy: 0.6684\n",
            "313/313 [==============================] - 2s 5ms/step - loss: 0.8129 - accuracy: 0.7197\n",
            "Test loss: 0.8128520846366882\n",
            "Test accuracy: 0.7196999788284302\n"
          ]
        }
      ]
    },
    {
      "cell_type": "markdown",
      "source": [
        "с data augmentation дела идут получше (больше примеров в разных ракурсах, освещением)"
      ],
      "metadata": {
        "id": "tSpkE37hO84E"
      }
    },
    {
      "cell_type": "markdown",
      "source": [
        "### В стиле AlexNet (больше ядер+больше слоев)"
      ],
      "metadata": {
        "id": "CFi40BA1o-bW"
      }
    },
    {
      "cell_type": "code",
      "source": [
        "# AlexNet с картинки:\n",
        "# 1. Conv 11x11, stride=4 96 kernels слоi/input\n",
        "# Pool 3x3, stride=2\n",
        "# 2. Conv 5x5, pad=2 256 kernels  \n",
        "# Pool 3x3, stride=2\n",
        "# 3. Conv 3x3, pad=1 384 kernels \n",
        "# 4. Conv 3x3, pad=1 384 kernels  \n",
        "# 5. Conv 3x3, pad=1 256 kernels  \n",
        "# MaxPool 3x3, stride=2\n",
        "# сглаживание CNN выхода чтобы можно было его присоединить к полносвязному слою\n",
        "# model.add(Flatten())\n",
        "# полносвязные слои нейронной сети\n",
        "# 1. Dense(4096, activation='relu'))\n",
        "# 2. Dense(4096, activation='relu'))\n",
        "# выходной слой с функцией активации softmax\n",
        "# 3. output Dense(num_classes)"
      ],
      "metadata": {
        "id": "zb2uKPEtyS4U"
      },
      "execution_count": null,
      "outputs": []
    },
    {
      "cell_type": "code",
      "source": [
        "model_conf={\"conv1\": (96, 11, 4, \"same\"), \"pool1\":(3,2), \n",
        "            \"conv2\":(256, 5, 1, \"same\") , \"pool2\":(3,2), \n",
        "            \"conv3\":(384, 3, 1, \"valid\"), \"conv4\":(384, 3, 1, \"valid\"), \"conv5\":(256, 3, 1, \"valid\"), \"pool3\":(3,2), \n",
        "            \"flat\": (), \"dense1\":(4096,), \"dense2\":(4096,)}\n",
        "model = build_model(model_conf)"
      ],
      "metadata": {
        "id": "SxJ_NjSjpcXG"
      },
      "execution_count": null,
      "outputs": []
    },
    {
      "cell_type": "markdown",
      "source": [
        "ValueError: One of the dimensions in the output is <= 0 due to downsampling in conv2d_75. Consider increasing the input size. Received input shape [None, 1, 1, 256] which would produce output shape with a zero or negative value in a dimension.\n",
        "\n",
        "\n",
        "**ошибка, на данном датасете эта архитектура не сходится**"
      ],
      "metadata": {
        "id": "kluJ8K81O1xL"
      }
    },
    {
      "cell_type": "code",
      "source": [
        "model_conf={\"conv1\":(96, 6, 2, \"same\"), \"pool1\":(3,1), \n",
        "            \"conv2\":(64, 5, 1, \"valid\"), \"pool2\":(3,1),             \n",
        "            \"conv3\":(86, 3, 1, \"valid\"), \"conv4\":(86, 3, 1, \"valid\"), \"pool3\":(3,1), \n",
        "            \"flat\": (), \"dense1\":(1024,), \"dense2\":(1024,)}\n",
        "model = build_model(model_conf)"
      ],
      "metadata": {
        "colab": {
          "base_uri": "https://localhost:8080/"
        },
        "id": "vVM9o-K9shzb",
        "outputId": "d27f4a91-f025-46f5-870a-cdb0cd847184"
      },
      "execution_count": 53,
      "outputs": [
        {
          "output_type": "stream",
          "name": "stdout",
          "text": [
            "Model: \"sequential_13\"\n",
            "_________________________________________________________________\n",
            " Layer (type)                Output Shape              Param #   \n",
            "=================================================================\n",
            " conv2d_54 (Conv2D)          (None, 16, 16, 96)        10464     \n",
            "                                                                 \n",
            " max_pooling2d_28 (MaxPoolin  (None, 14, 14, 96)       0         \n",
            " g2D)                                                            \n",
            "                                                                 \n",
            " dropout_40 (Dropout)        (None, 14, 14, 96)        0         \n",
            "                                                                 \n",
            " conv2d_55 (Conv2D)          (None, 10, 10, 64)        153664    \n",
            "                                                                 \n",
            " max_pooling2d_29 (MaxPoolin  (None, 8, 8, 64)         0         \n",
            " g2D)                                                            \n",
            "                                                                 \n",
            " dropout_41 (Dropout)        (None, 8, 8, 64)          0         \n",
            "                                                                 \n",
            " conv2d_56 (Conv2D)          (None, 6, 6, 86)          49622     \n",
            "                                                                 \n",
            " conv2d_57 (Conv2D)          (None, 4, 4, 86)          66650     \n",
            "                                                                 \n",
            " max_pooling2d_30 (MaxPoolin  (None, 2, 2, 86)         0         \n",
            " g2D)                                                            \n",
            "                                                                 \n",
            " dropout_42 (Dropout)        (None, 2, 2, 86)          0         \n",
            "                                                                 \n",
            " flatten_12 (Flatten)        (None, 344)               0         \n",
            "                                                                 \n",
            " dense_25 (Dense)            (None, 1024)              353280    \n",
            "                                                                 \n",
            " dense_26 (Dense)            (None, 1024)              1049600   \n",
            "                                                                 \n",
            " dropout_43 (Dropout)        (None, 1024)              0         \n",
            "                                                                 \n",
            " dense_27 (Dense)            (None, 10)                10250     \n",
            "                                                                 \n",
            "=================================================================\n",
            "Total params: 1,693,530\n",
            "Trainable params: 1,693,530\n",
            "Non-trainable params: 0\n",
            "_________________________________________________________________\n"
          ]
        }
      ]
    },
    {
      "cell_type": "code",
      "source": [
        "run_model(model, batch_size, epochs, False)\n",
        "run_model(model, batch_size, epochs, True)"
      ],
      "metadata": {
        "id": "o1j9I6iKqKp1",
        "colab": {
          "base_uri": "https://localhost:8080/"
        },
        "outputId": "8d6241f4-5f82-4a2b-e14b-b30b59cbd8b1"
      },
      "execution_count": 54,
      "outputs": [
        {
          "output_type": "stream",
          "name": "stdout",
          "text": [
            "Не используется data augmentation\n",
            "Epoch 1/5\n",
            "1563/1563 [==============================] - 12s 7ms/step - loss: 2.1335 - accuracy: 0.1723 - val_loss: 1.9287 - val_accuracy: 0.2494\n",
            "Epoch 2/5\n",
            "1563/1563 [==============================] - 11s 7ms/step - loss: 1.8081 - accuracy: 0.3151 - val_loss: 1.6671 - val_accuracy: 0.3953\n",
            "Epoch 3/5\n",
            "1563/1563 [==============================] - 11s 7ms/step - loss: 1.5977 - accuracy: 0.4082 - val_loss: 1.6455 - val_accuracy: 0.4095\n",
            "Epoch 4/5\n",
            "1563/1563 [==============================] - 11s 7ms/step - loss: 1.4732 - accuracy: 0.4596 - val_loss: 1.4982 - val_accuracy: 0.4482\n",
            "Epoch 5/5\n",
            "1563/1563 [==============================] - 11s 7ms/step - loss: 1.3869 - accuracy: 0.4985 - val_loss: 1.3537 - val_accuracy: 0.5011\n",
            "313/313 [==============================] - 1s 4ms/step - loss: 1.3537 - accuracy: 0.5011\n",
            "Test loss: 1.3537120819091797\n",
            "Test accuracy: 0.5011000037193298\n",
            "Использование data augmentation в реальном времени\n",
            "Epoch 1/5\n",
            "1562/1562 [==============================] - 42s 26ms/step - loss: 1.3949 - accuracy: 0.4967\n",
            "Epoch 2/5\n",
            "1562/1562 [==============================] - 41s 26ms/step - loss: 1.3387 - accuracy: 0.5172\n",
            "Epoch 3/5\n",
            "1562/1562 [==============================] - 41s 26ms/step - loss: 1.2946 - accuracy: 0.5369\n",
            "Epoch 4/5\n",
            "1562/1562 [==============================] - 41s 26ms/step - loss: 1.2550 - accuracy: 0.5520\n",
            "Epoch 5/5\n",
            "1562/1562 [==============================] - 41s 27ms/step - loss: 1.2176 - accuracy: 0.5679\n",
            "313/313 [==============================] - 1s 4ms/step - loss: 1.0732 - accuracy: 0.6212\n",
            "Test loss: 1.0731618404388428\n",
            "Test accuracy: 0.6212000250816345\n"
          ]
        }
      ]
    },
    {
      "cell_type": "markdown",
      "source": [
        "архитектура (больше ядер+больше слоев) проигрывает базовоi модели, как с data augmentation так и без"
      ],
      "metadata": {
        "id": "c4WVNV2ZHhZv"
      }
    },
    {
      "cell_type": "markdown",
      "source": [
        "### базовая модель + больше ядер"
      ],
      "metadata": {
        "id": "GajsYYnqIMQm"
      }
    },
    {
      "cell_type": "code",
      "source": [
        "model_conf={\"conv1\": (64, 3, 1, \"same\"), \"conv2\":(64, 3, 1, \"valid\") , \"pool1\":(2,1), \n",
        "            \"conv3\":(128, 3, 1, \"same\"), \"conv4\":(128, 3, 1, \"valid\"), \"pool2\":(2,1), \n",
        "            \"flat\": (), \"dense1\":(512,)}\n",
        "\n",
        "model = build_model(model_conf)"
      ],
      "metadata": {
        "id": "LWnxJx4oqKtd",
        "colab": {
          "base_uri": "https://localhost:8080/"
        },
        "outputId": "c6cf183b-2429-45b2-8f75-565e9ba78910"
      },
      "execution_count": 55,
      "outputs": [
        {
          "output_type": "stream",
          "name": "stdout",
          "text": [
            "Model: \"sequential_14\"\n",
            "_________________________________________________________________\n",
            " Layer (type)                Output Shape              Param #   \n",
            "=================================================================\n",
            " conv2d_58 (Conv2D)          (None, 32, 32, 64)        1792      \n",
            "                                                                 \n",
            " conv2d_59 (Conv2D)          (None, 30, 30, 64)        36928     \n",
            "                                                                 \n",
            " max_pooling2d_31 (MaxPoolin  (None, 29, 29, 64)       0         \n",
            " g2D)                                                            \n",
            "                                                                 \n",
            " dropout_44 (Dropout)        (None, 29, 29, 64)        0         \n",
            "                                                                 \n",
            " conv2d_60 (Conv2D)          (None, 29, 29, 128)       73856     \n",
            "                                                                 \n",
            " conv2d_61 (Conv2D)          (None, 27, 27, 128)       147584    \n",
            "                                                                 \n",
            " max_pooling2d_32 (MaxPoolin  (None, 26, 26, 128)      0         \n",
            " g2D)                                                            \n",
            "                                                                 \n",
            " dropout_45 (Dropout)        (None, 26, 26, 128)       0         \n",
            "                                                                 \n",
            " flatten_13 (Flatten)        (None, 86528)             0         \n",
            "                                                                 \n",
            " dense_28 (Dense)            (None, 512)               44302848  \n",
            "                                                                 \n",
            " dropout_46 (Dropout)        (None, 512)               0         \n",
            "                                                                 \n",
            " dense_29 (Dense)            (None, 10)                5130      \n",
            "                                                                 \n",
            "=================================================================\n",
            "Total params: 44,568,138\n",
            "Trainable params: 44,568,138\n",
            "Non-trainable params: 0\n",
            "_________________________________________________________________\n"
          ]
        }
      ]
    },
    {
      "cell_type": "code",
      "source": [
        "run_model(model, batch_size, epochs, False)\n",
        "run_model(model, batch_size, epochs, True)"
      ],
      "metadata": {
        "id": "Skzg9ZdSqKxF",
        "colab": {
          "base_uri": "https://localhost:8080/"
        },
        "outputId": "1936109e-d787-46de-889a-88508240797e"
      },
      "execution_count": 56,
      "outputs": [
        {
          "output_type": "stream",
          "name": "stdout",
          "text": [
            "Не используется data augmentation\n",
            "Epoch 1/5\n",
            "1563/1563 [==============================] - 24s 15ms/step - loss: 1.8476 - accuracy: 0.3275 - val_loss: 1.5432 - val_accuracy: 0.4404\n",
            "Epoch 2/5\n",
            "1563/1563 [==============================] - 22s 14ms/step - loss: 1.4530 - accuracy: 0.4775 - val_loss: 1.4489 - val_accuracy: 0.4922\n",
            "Epoch 3/5\n",
            "1563/1563 [==============================] - 23s 15ms/step - loss: 1.2528 - accuracy: 0.5535 - val_loss: 1.1901 - val_accuracy: 0.5829\n",
            "Epoch 4/5\n",
            "1563/1563 [==============================] - 22s 14ms/step - loss: 1.1059 - accuracy: 0.6090 - val_loss: 0.9970 - val_accuracy: 0.6494\n",
            "Epoch 5/5\n",
            "1563/1563 [==============================] - 23s 15ms/step - loss: 0.9918 - accuracy: 0.6529 - val_loss: 0.9791 - val_accuracy: 0.6545\n",
            "313/313 [==============================] - 2s 6ms/step - loss: 0.9791 - accuracy: 0.6545\n",
            "Test loss: 0.9791275262832642\n",
            "Test accuracy: 0.6545000076293945\n",
            "Использование data augmentation в реальном времени\n",
            "Epoch 1/5\n",
            "1562/1562 [==============================] - 48s 30ms/step - loss: 1.0923 - accuracy: 0.6158\n",
            "Epoch 2/5\n",
            "1562/1562 [==============================] - 46s 30ms/step - loss: 1.0264 - accuracy: 0.6360\n",
            "Epoch 3/5\n",
            "1562/1562 [==============================] - 46s 29ms/step - loss: 0.9741 - accuracy: 0.6575\n",
            "Epoch 4/5\n",
            "1562/1562 [==============================] - 46s 29ms/step - loss: 0.9298 - accuracy: 0.6751\n",
            "Epoch 5/5\n",
            "1562/1562 [==============================] - 46s 29ms/step - loss: 0.8801 - accuracy: 0.6924\n",
            "313/313 [==============================] - 2s 6ms/step - loss: 0.7833 - accuracy: 0.7335\n",
            "Test loss: 0.7832680940628052\n",
            "Test accuracy: 0.7335000038146973\n"
          ]
        }
      ]
    },
    {
      "cell_type": "markdown",
      "source": [
        "0.658/0.72 # base\n",
        "0.654/0.733 # more filters(kernels)\n",
        "\n",
        "увеличение количества ядер (фильтров) дает сравнимый с  базовым результат, не имеет смысла"
      ],
      "metadata": {
        "id": "rusK3dA3IuDS"
      }
    },
    {
      "cell_type": "markdown",
      "source": [
        "### базовая модель + больше слоев1"
      ],
      "metadata": {
        "id": "RkaAZrUOIuag"
      }
    },
    {
      "cell_type": "code",
      "source": [
        "model_conf={\"conv1\": (32, 3, 1, \"same\"), \"conv2\":(32, 3, 1, \"valid\"), \"pool1\":(2,1), \n",
        "            \"conv3\":(64, 3, 1, \"same\"), \"conv4\":(64, 3, 1, \"valid\"), \"conv5\":(48, 3, 1, \"valid\"), \"pool2\":(2,1), \n",
        "            \"conv6\":(32, 3, 1, \"same\"), \"conv7\":(32, 3, 1, \"valid\"), \"pool3\":(2,1), \n",
        "            \"flat\": (), \"dense1\":(512,)}\n",
        "model = build_model(model_conf)"
      ],
      "metadata": {
        "id": "OR_pIifoqK0M",
        "colab": {
          "base_uri": "https://localhost:8080/"
        },
        "outputId": "3e6cee61-00ff-4d98-80dc-6e36ff5d4885"
      },
      "execution_count": 58,
      "outputs": [
        {
          "output_type": "stream",
          "name": "stdout",
          "text": [
            "Model: \"sequential_15\"\n",
            "_________________________________________________________________\n",
            " Layer (type)                Output Shape              Param #   \n",
            "=================================================================\n",
            " conv2d_62 (Conv2D)          (None, 32, 32, 32)        896       \n",
            "                                                                 \n",
            " conv2d_63 (Conv2D)          (None, 30, 30, 32)        9248      \n",
            "                                                                 \n",
            " max_pooling2d_33 (MaxPoolin  (None, 29, 29, 32)       0         \n",
            " g2D)                                                            \n",
            "                                                                 \n",
            " dropout_47 (Dropout)        (None, 29, 29, 32)        0         \n",
            "                                                                 \n",
            " conv2d_64 (Conv2D)          (None, 29, 29, 64)        18496     \n",
            "                                                                 \n",
            " conv2d_65 (Conv2D)          (None, 27, 27, 64)        36928     \n",
            "                                                                 \n",
            " conv2d_66 (Conv2D)          (None, 25, 25, 48)        27696     \n",
            "                                                                 \n",
            " max_pooling2d_34 (MaxPoolin  (None, 24, 24, 48)       0         \n",
            " g2D)                                                            \n",
            "                                                                 \n",
            " dropout_48 (Dropout)        (None, 24, 24, 48)        0         \n",
            "                                                                 \n",
            " conv2d_67 (Conv2D)          (None, 24, 24, 32)        13856     \n",
            "                                                                 \n",
            " conv2d_68 (Conv2D)          (None, 22, 22, 32)        9248      \n",
            "                                                                 \n",
            " max_pooling2d_35 (MaxPoolin  (None, 21, 21, 32)       0         \n",
            " g2D)                                                            \n",
            "                                                                 \n",
            " dropout_49 (Dropout)        (None, 21, 21, 32)        0         \n",
            "                                                                 \n",
            " flatten_14 (Flatten)        (None, 14112)             0         \n",
            "                                                                 \n",
            " dense_30 (Dense)            (None, 512)               7225856   \n",
            "                                                                 \n",
            " dropout_50 (Dropout)        (None, 512)               0         \n",
            "                                                                 \n",
            " dense_31 (Dense)            (None, 10)                5130      \n",
            "                                                                 \n",
            "=================================================================\n",
            "Total params: 7,347,354\n",
            "Trainable params: 7,347,354\n",
            "Non-trainable params: 0\n",
            "_________________________________________________________________\n"
          ]
        }
      ]
    },
    {
      "cell_type": "code",
      "source": [
        "run_model(model, batch_size, epochs, False)\n",
        "run_model(model, batch_size, epochs, True)"
      ],
      "metadata": {
        "id": "60hQWJYRqK3d",
        "colab": {
          "base_uri": "https://localhost:8080/"
        },
        "outputId": "0cfbd28f-356e-4b52-d30f-949701f196d1"
      },
      "execution_count": 59,
      "outputs": [
        {
          "output_type": "stream",
          "name": "stdout",
          "text": [
            "Не используется data augmentation\n",
            "Epoch 1/5\n",
            "1563/1563 [==============================] - 17s 10ms/step - loss: 2.0382 - accuracy: 0.2448 - val_loss: 2.3362 - val_accuracy: 0.2250\n",
            "Epoch 2/5\n",
            "1563/1563 [==============================] - 15s 10ms/step - loss: 1.7009 - accuracy: 0.3795 - val_loss: 1.6612 - val_accuracy: 0.4040\n",
            "Epoch 3/5\n",
            "1563/1563 [==============================] - 17s 11ms/step - loss: 1.5443 - accuracy: 0.4389 - val_loss: 1.4924 - val_accuracy: 0.4695\n",
            "Epoch 4/5\n",
            "1563/1563 [==============================] - 15s 10ms/step - loss: 1.3950 - accuracy: 0.4953 - val_loss: 1.2888 - val_accuracy: 0.5435\n",
            "Epoch 5/5\n",
            "1563/1563 [==============================] - 17s 11ms/step - loss: 1.2842 - accuracy: 0.5415 - val_loss: 1.3216 - val_accuracy: 0.5277\n",
            "313/313 [==============================] - 2s 5ms/step - loss: 1.3216 - accuracy: 0.5277\n",
            "Test loss: 1.3215715885162354\n",
            "Test accuracy: 0.5277000069618225\n",
            "Использование data augmentation в реальном времени\n",
            "Epoch 1/5\n",
            "1562/1562 [==============================] - 44s 28ms/step - loss: 1.3237 - accuracy: 0.5271\n",
            "Epoch 2/5\n",
            "1562/1562 [==============================] - 43s 28ms/step - loss: 1.2579 - accuracy: 0.5507\n",
            "Epoch 3/5\n",
            "1562/1562 [==============================] - 44s 28ms/step - loss: 1.2093 - accuracy: 0.5720\n",
            "Epoch 4/5\n",
            "1562/1562 [==============================] - 44s 28ms/step - loss: 1.1679 - accuracy: 0.5875\n",
            "Epoch 5/5\n",
            "1562/1562 [==============================] - 43s 28ms/step - loss: 1.1339 - accuracy: 0.5984\n",
            "313/313 [==============================] - 2s 5ms/step - loss: 0.9661 - accuracy: 0.6594\n",
            "Test loss: 0.9660959243774414\n",
            "Test accuracy: 0.6593999862670898\n"
          ]
        }
      ]
    },
    {
      "cell_type": "markdown",
      "source": [
        "слабенький вариант, слои добавлены везде)"
      ],
      "metadata": {
        "id": "mGaOlaH2M-Ml"
      }
    },
    {
      "cell_type": "markdown",
      "source": [
        "### базовая модель + больше слоев2"
      ],
      "metadata": {
        "id": "xec8fBzjM_iF"
      }
    },
    {
      "cell_type": "code",
      "source": [
        "model_conf={\"conv1\": (32, 3, 1, \"same\"), \"conv2\":(32, 3, 1, \"valid\") , \"pool1\":(2,1), \n",
        "            \"conv3\":(64, 3, 1, \"same\"), \"conv4\":(64, 3, 1, \"valid\"), \"pool2\":(2,1), \n",
        "            \"conv3\":(32, 3, 1, \"same\"), \"conv4\":(32, 3, 1, \"valid\"), \"pool2\":(2,1), \n",
        "            \"flat\": (), \"dense1\":(512,)}\n",
        "            \n",
        "model = build_model(model_conf)"
      ],
      "metadata": {
        "id": "dIBL9QVFl22q",
        "colab": {
          "base_uri": "https://localhost:8080/"
        },
        "outputId": "390b0630-7099-4b09-c63d-5dc5ff6772ad"
      },
      "execution_count": 60,
      "outputs": [
        {
          "output_type": "stream",
          "name": "stdout",
          "text": [
            "Model: \"sequential_16\"\n",
            "_________________________________________________________________\n",
            " Layer (type)                Output Shape              Param #   \n",
            "=================================================================\n",
            " conv2d_69 (Conv2D)          (None, 32, 32, 32)        896       \n",
            "                                                                 \n",
            " conv2d_70 (Conv2D)          (None, 30, 30, 32)        9248      \n",
            "                                                                 \n",
            " max_pooling2d_36 (MaxPoolin  (None, 29, 29, 32)       0         \n",
            " g2D)                                                            \n",
            "                                                                 \n",
            " dropout_51 (Dropout)        (None, 29, 29, 32)        0         \n",
            "                                                                 \n",
            " conv2d_71 (Conv2D)          (None, 29, 29, 32)        9248      \n",
            "                                                                 \n",
            " conv2d_72 (Conv2D)          (None, 27, 27, 32)        9248      \n",
            "                                                                 \n",
            " max_pooling2d_37 (MaxPoolin  (None, 26, 26, 32)       0         \n",
            " g2D)                                                            \n",
            "                                                                 \n",
            " dropout_52 (Dropout)        (None, 26, 26, 32)        0         \n",
            "                                                                 \n",
            " flatten_15 (Flatten)        (None, 21632)             0         \n",
            "                                                                 \n",
            " dense_32 (Dense)            (None, 512)               11076096  \n",
            "                                                                 \n",
            " dropout_53 (Dropout)        (None, 512)               0         \n",
            "                                                                 \n",
            " dense_33 (Dense)            (None, 10)                5130      \n",
            "                                                                 \n",
            "=================================================================\n",
            "Total params: 11,109,866\n",
            "Trainable params: 11,109,866\n",
            "Non-trainable params: 0\n",
            "_________________________________________________________________\n"
          ]
        }
      ]
    },
    {
      "cell_type": "code",
      "source": [
        "run_model(model, batch_size, epochs, False)\n",
        "run_model(model, batch_size, epochs, True)"
      ],
      "metadata": {
        "colab": {
          "base_uri": "https://localhost:8080/"
        },
        "id": "xfRE32kbNQf1",
        "outputId": "cb2bd51b-a5eb-4bee-d36f-a0f86ea326f8"
      },
      "execution_count": 61,
      "outputs": [
        {
          "output_type": "stream",
          "name": "stdout",
          "text": [
            "Не используется data augmentation\n",
            "Epoch 1/5\n",
            "1563/1563 [==============================] - 12s 8ms/step - loss: 1.9380 - accuracy: 0.2977 - val_loss: 1.8903 - val_accuracy: 0.3277\n",
            "Epoch 2/5\n",
            "1563/1563 [==============================] - 11s 7ms/step - loss: 1.5686 - accuracy: 0.4367 - val_loss: 1.3985 - val_accuracy: 0.5005\n",
            "Epoch 3/5\n",
            "1563/1563 [==============================] - 11s 7ms/step - loss: 1.3589 - accuracy: 0.5117 - val_loss: 1.3512 - val_accuracy: 0.5264\n",
            "Epoch 4/5\n",
            "1563/1563 [==============================] - 11s 7ms/step - loss: 1.2267 - accuracy: 0.5606 - val_loss: 1.2609 - val_accuracy: 0.5548\n",
            "Epoch 5/5\n",
            "1563/1563 [==============================] - 12s 7ms/step - loss: 1.1209 - accuracy: 0.6027 - val_loss: 1.2633 - val_accuracy: 0.5746\n",
            "313/313 [==============================] - 1s 4ms/step - loss: 1.2633 - accuracy: 0.5746\n",
            "Test loss: 1.263279676437378\n",
            "Test accuracy: 0.5745999813079834\n",
            "Использование data augmentation в реальном времени\n",
            "Epoch 1/5\n",
            "1562/1562 [==============================] - 41s 26ms/step - loss: 1.2027 - accuracy: 0.5719\n",
            "Epoch 2/5\n",
            "1562/1562 [==============================] - 41s 26ms/step - loss: 1.1486 - accuracy: 0.5925\n",
            "Epoch 3/5\n",
            "1562/1562 [==============================] - 42s 27ms/step - loss: 1.1022 - accuracy: 0.6078\n",
            "Epoch 4/5\n",
            "1562/1562 [==============================] - 41s 27ms/step - loss: 1.0650 - accuracy: 0.6240\n",
            "Epoch 5/5\n",
            "1562/1562 [==============================] - 47s 30ms/step - loss: 1.0359 - accuracy: 0.6346\n",
            "313/313 [==============================] - 1s 4ms/step - loss: 0.9613 - accuracy: 0.6633\n",
            "Test loss: 0.9613251090049744\n",
            "Test accuracy: 0.6632999777793884\n"
          ]
        }
      ]
    },
    {
      "cell_type": "markdown",
      "source": [
        "0.5745/0.6632\n",
        "\n",
        "хуже чем базовыi результат, не имеет смысла "
      ],
      "metadata": {
        "id": "QTDmwnStOwlk"
      }
    },
    {
      "cell_type": "markdown",
      "source": [
        "Мария, как вы нашли такой хороший базовый вариант?"
      ],
      "metadata": {
        "id": "rxHlckfCYep8"
      }
    },
    {
      "cell_type": "code",
      "source": [
        "# поучим еще 3 итерации/эпохи\n",
        "\n",
        "run_model(model, batch_size, 3, False)\n",
        "run_model(model, batch_size, 3, True)"
      ],
      "metadata": {
        "colab": {
          "base_uri": "https://localhost:8080/"
        },
        "id": "on9J6YlLZKcM",
        "outputId": "65900491-41eb-4337-8f1e-51218f578a1f"
      },
      "execution_count": 62,
      "outputs": [
        {
          "output_type": "stream",
          "name": "stdout",
          "text": [
            "Не используется data augmentation\n",
            "Epoch 1/3\n",
            "1563/1563 [==============================] - 12s 7ms/step - loss: 0.8647 - accuracy: 0.6953 - val_loss: 0.8368 - val_accuracy: 0.7097\n",
            "Epoch 2/3\n",
            "1563/1563 [==============================] - 11s 7ms/step - loss: 0.8025 - accuracy: 0.7169 - val_loss: 0.8040 - val_accuracy: 0.7185\n",
            "Epoch 3/3\n",
            "1563/1563 [==============================] - 12s 7ms/step - loss: 0.7597 - accuracy: 0.7348 - val_loss: 0.7897 - val_accuracy: 0.7267\n",
            "313/313 [==============================] - 1s 4ms/step - loss: 0.7897 - accuracy: 0.7267\n",
            "Test loss: 0.7896525859832764\n",
            "Test accuracy: 0.7267000079154968\n",
            "Использование data augmentation в реальном времени\n",
            "Epoch 1/3\n",
            "1562/1562 [==============================] - 41s 26ms/step - loss: 0.9460 - accuracy: 0.6688\n",
            "Epoch 2/3\n",
            "1562/1562 [==============================] - 41s 26ms/step - loss: 0.9177 - accuracy: 0.6754\n",
            "Epoch 3/3\n",
            "1562/1562 [==============================] - 41s 26ms/step - loss: 0.8906 - accuracy: 0.6868\n",
            "313/313 [==============================] - 1s 5ms/step - loss: 0.7906 - accuracy: 0.7309\n",
            "Test loss: 0.7906155586242676\n",
            "Test accuracy: 0.73089998960495\n"
          ]
        }
      ]
    },
    {
      "cell_type": "markdown",
      "source": [
        "### вывод"
      ],
      "metadata": {
        "id": "-js5-dd-Z0Xc"
      }
    },
    {
      "cell_type": "markdown",
      "source": [
        " имеет смысл:\n",
        "1. искать оптимальное количство слоев и фильтров/ядер\n",
        "2.  более длинное обучение, порциями"
      ],
      "metadata": {
        "id": "PWUlH7cAacFq"
      }
    }
  ],
  "metadata": {
    "accelerator": "GPU",
    "colab": {
      "collapsed_sections": [],
      "name": "homework_4.ipynb",
      "provenance": [],
      "toc_visible": true,
      "include_colab_link": true
    },
    "kernelspec": {
      "display_name": "Python 3",
      "name": "python3"
    },
    "language_info": {
      "codemirror_mode": {
        "name": "ipython",
        "version": 3
      },
      "file_extension": ".py",
      "mimetype": "text/x-python",
      "name": "python",
      "nbconvert_exporter": "python",
      "pygments_lexer": "ipython3",
      "version": "3.7.3"
    }
  },
  "nbformat": 4,
  "nbformat_minor": 0
}